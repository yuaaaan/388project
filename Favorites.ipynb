{
 "cells": [
  {
   "cell_type": "code",
   "execution_count": 2,
   "metadata": {},
   "outputs": [],
   "source": [
    "import pandas as pd\n",
    "import numpy as np\n",
    "import matplotlib.pyplot as plt\n",
    "import datetime\n",
    "import matplotlib\n",
    "import itertools\n",
    "from scipy.stats import kstest\n",
    "from scipy import linalg\n",
    "import matplotlib.pyplot as plt\n",
    "import matplotlib as mpl\n",
    "from sklearn import mixture"
   ]
  },
  {
   "cell_type": "code",
   "execution_count": 3,
   "metadata": {},
   "outputs": [],
   "source": [
    "df = pd.read_csv(\"politicians_tweet_data.csv\", index_col = 0)"
   ]
  },
  {
   "cell_type": "code",
   "execution_count": 4,
   "metadata": {},
   "outputs": [
    {
     "name": "stdout",
     "output_type": "stream",
     "text": [
      "0       0.0\n",
      "1    1489.0\n",
      "2       0.0\n",
      "3       0.0\n",
      "4       0.0\n",
      "5       0.0\n",
      "6    1464.0\n",
      "7       0.0\n",
      "8       6.0\n",
      "9       0.0\n",
      "Name: favourites, dtype: float64\n",
      "0    0.000000\n",
      "1    7.306531\n",
      "2    0.000000\n",
      "3    0.000000\n",
      "4    0.000000\n",
      "5    0.000000\n",
      "6    7.289611\n",
      "7    0.000000\n",
      "8    1.945910\n",
      "9    0.000000\n",
      "Name: favourites, dtype: float64\n",
      "[-2.  0.  2.  4.  6.  8. 10. 12.]\n",
      "-2.0412221198356765e-09 1.4083801202886193\n"
     ]
    },
    {
     "data": {
      "image/png": "[encoded data removed]",
      "text/plain": [
       "<matplotlib.figure.Figure at 0x109b7bef0>"
      ]
     },
     "metadata": {},
     "output_type": "display_data"
    },
    {
     "name": "stdout",
     "output_type": "stream",
     "text": [
      "10453\n"
     ]
    }
   ],
   "source": [
    "from scipy.stats import expon\n",
    "favor = df['favourites']\n",
    "print(favor.head(10))\n",
    "\n",
    "favor_tnsf = np.log(favor +1)\n",
    "print(favor_tnsf.head(10))\n",
    "h = plt.hist(favor_tnsf, normed=True,bins=10)\n",
    "#1-2 bin size is significantly less than the distribution\n",
    "xt = plt.xticks()[0]  \n",
    "print(xt)\n",
    "xmin, xmax = 0, max(xt)  \n",
    "lnspc = np.linspace(xmin, xmax, len(favor_tnsf))\n",
    "loc,scale = expon.fit(favor_tnsf)  \n",
    "print (loc, scale)\n",
    "pdf_g = expon.pdf(lnspc, loc, scale)  \n",
    "plt.plot(lnspc, pdf_g) # plot it\n",
    "plt.ylim(0,0.6)\n",
    "plt.xlim(0,8)\n",
    "plt.show()\n",
    "print(len(favor_tnsf))"
   ]
  },
  {
   "cell_type": "code",
   "execution_count": 136,
   "metadata": {},
   "outputs": [
    {
     "name": "stdout",
     "output_type": "stream",
     "text": [
      "KstestResult(statistic=0.4660862895675926, pvalue=0.0)\n"
     ]
    }
   ],
   "source": [
    "def expon_cdf(x):   \n",
    "    return expon.cdf(x, loc=-2.0412221198356765e-09, scale=1.4083801202886193)\n",
    "print(kstest(favor_tnsf, expon_cdf))\n",
    "#rejected..."
   ]
  },
  {
   "cell_type": "code",
   "execution_count": 258,
   "metadata": {},
   "outputs": [],
   "source": [
    "data = np.array(favor).reshape([-1,1])\n",
    "bic = []\n",
    "lowest_bic = np.infty\n",
    "n_components_range = range(1, 5)\n",
    "cv_types = ['spherical', 'tied', 'diag', 'full']\n",
    "for cv_type in cv_types:\n",
    "    for n_components in n_components_range:\n",
    "        gmm = mixture.GaussianMixture(n_components=n_components,\n",
    "                                      covariance_type=cv_type)\n",
    "        gmm.fit(data)\n",
    "        bic.append(gmm.bic(data))\n",
    "        \n",
    "        if bic[-1] < lowest_bic:\n",
    "            lowest_bic = bic[-1]\n",
    "            best_gmm = gmm\n",
    "\n",
    "bic = np.array(bic)\n",
    "\n"
   ]
  },
  {
   "cell_type": "code",
   "execution_count": 259,
   "metadata": {},
   "outputs": [
    {
     "data": {
      "text/plain": [
       "<matplotlib.legend.Legend at 0x1a1f515e48>"
      ]
     },
     "execution_count": 259,
     "metadata": {},
     "output_type": "execute_result"
    },
    {
     "data": {
      "image/png": "[encoded data removed]",
      "text/plain": [
       "<matplotlib.figure.Figure at 0x1a1f481f98>"
      ]
     },
     "metadata": {},
     "output_type": "display_data"
    }
   ],
   "source": [
    "# Plot the BIC scores\n",
    "#code borrow from :http://www.astroml.org/book_figures/chapter4/fig_GMM_1D.html\n",
    "spl = plt.subplot(2, 1, 1)\n",
    "color_iter = itertools.cycle(['navy', 'turquoise', 'cornflowerblue',\n",
    "                              'darkorange'])\n",
    "for i, (cv_type, color) in enumerate(zip(cv_types, color_iter)):\n",
    "    xpos = np.array(n_components_range) + .2 * (i - 2)\n",
    "    bars.append(plt.bar(xpos, bic[i * len(n_components_range):\n",
    "                                  (i + 1) * len(n_components_range)],\n",
    "                        width=.2, color=color))\n",
    "plt.xticks(n_components_range)\n",
    "plt.ylim([bic.min() * 1.01 - .01 * bic.max(), bic.max()])\n",
    "plt.title('BIC score per model')\n",
    "xpos = np.mod(bic.argmin(), len(n_components_range)) + .65 +\\\n",
    "    .2 * np.floor(bic.argmin() / len(n_components_range))\n",
    "plt.text(xpos, bic.min() * 0.97 + .03 * bic.max(), '*', fontsize=14)\n",
    "spl.set_xlabel('Number of components')\n",
    "spl.legend([b[0] for b in bars], cv_types)"
   ]
  },
  {
   "cell_type": "code",
   "execution_count": 260,
   "metadata": {},
   "outputs": [
    {
     "name": "stdout",
     "output_type": "stream",
     "text": [
      "11098.16222118516\n",
      "mean 0.000000, var 0.000001\n",
      "mean 1876.623845, var 16332520.539974\n",
      "mean 85.142766, var 7069.762091\n",
      "mean 5.344901, var 22.044047\n"
     ]
    }
   ],
   "source": [
    "print(lowest_bic)\n",
    "clf = best_gmm\n",
    "for mean, var in zip(clf.means_, clf.covariances_):\n",
    "    print (\"mean %f, var %f\"  %(mean, var))\n"
   ]
  },
  {
   "cell_type": "code",
   "execution_count": 268,
   "metadata": {},
   "outputs": [
    {
     "data": {
      "text/plain": [
       "(0, 50)"
      ]
     },
     "execution_count": 268,
     "metadata": {},
     "output_type": "execute_result"
    },
    {
     "data": {
      "image/png": "[encoded data removed]",
      "text/plain": [
       "<matplotlib.figure.Figure at 0x1a221889b0>"
      ]
     },
     "metadata": {},
     "output_type": "display_data"
    }
   ],
   "source": [
    "plt.hist(data,histtype='stepfilled',bins = 20 )\n",
    "plt.xlim(1000,50000)\n",
    "plt.ylim(0,50)\n",
    "# "
   ]
  },
  {
   "cell_type": "code",
   "execution_count": 249,
   "metadata": {},
   "outputs": [
    {
     "name": "stdout",
     "output_type": "stream",
     "text": [
      "[0 4 6 ... 1 1 1]\n",
      "[  1.          54.59815003 403.42879349 ...   2.71828183   2.71828183\n",
      "   2.71828183]\n"
     ]
    },
    {
     "data": {
      "text/plain": [
       "(0, 50000)"
      ]
     },
     "execution_count": 249,
     "metadata": {},
     "output_type": "execute_result"
    },
    {
     "data": {
      "image/png": "[encoded data removed]",
      "text/plain": [
       "<matplotlib.figure.Figure at 0x1a22ec9400>"
      ]
     },
     "metadata": {},
     "output_type": "display_data"
    }
   ],
   "source": [
    "x = np.linspace(0, 40000, len(data)).reshape([-1,1])\n",
    "logprob = clf.predict(x)\n",
    "print(logprob)\n",
    "print(np.exp(logprob))\n",
    "plt.plot(x, np.exp(logprob), '-k')\n",
    "plt.ylim(0,2000)\n",
    "plt.xlim(0,50000)\n"
   ]
  },
  {
   "cell_type": "code",
   "execution_count": null,
   "metadata": {},
   "outputs": [],
   "source": []
  }
 ],
 "metadata": {
  "kernelspec": {
   "display_name": "Python 3",
   "language": "python",
   "name": "python3"
  },
  "language_info": {
   "codemirror_mode": {
    "name": "ipython",
    "version": 3
   },
   "file_extension": ".py",
   "mimetype": "text/x-python",
   "name": "python",
   "nbconvert_exporter": "python",
   "pygments_lexer": "ipython3",
   "version": "3.6.4"
  }
 },
 "nbformat": 4,
 "nbformat_minor": 2
}
